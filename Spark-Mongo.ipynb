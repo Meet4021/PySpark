{
 "cells": [
  {
   "cell_type": "markdown",
   "metadata": {},
   "source": [
    "# MongoDB Connection"
   ]
  },
  {
   "cell_type": "code",
   "execution_count": 1,
   "metadata": {},
   "outputs": [],
   "source": [
    "# Import package\n",
    "import pymongo\n",
    "\n",
    "# Make connection\n",
    "client = pymongo.MongoClient(\"mongodb://127.0.0.1:27017/\")"
   ]
  },
  {
   "cell_type": "code",
   "execution_count": 2,
   "metadata": {},
   "outputs": [],
   "source": [
    "# # Convert CSV into dictionary\n",
    "# import json\n",
    "# import pandas as pd\n",
    "# df = pd.read_csv(\"D://train.csv\")\n",
    "# data = df.to_dict(orient= \"records\")"
   ]
  },
  {
   "cell_type": "code",
   "execution_count": 3,
   "metadata": {},
   "outputs": [],
   "source": [
    "# # Insert CSV into Mongo\n",
    "# db = client[\"MachineLearningData\"]\n",
    "# db.HouseSalePrice.insert_many(data)"
   ]
  },
  {
   "cell_type": "markdown",
   "metadata": {},
   "source": [
    "# Spark Connection"
   ]
  },
  {
   "cell_type": "code",
   "execution_count": 4,
   "metadata": {},
   "outputs": [],
   "source": [
    "import pyspark\n",
    "from pyspark import SparkContext\n",
    "from pyspark.sql import SparkSession\n",
    "from pyspark.sql import SQLContext"
   ]
  },
  {
   "cell_type": "code",
   "execution_count": 5,
   "metadata": {},
   "outputs": [],
   "source": [
    "conf = pyspark.SparkConf().setMaster(\"local\").setAppName(\"My First Spark Job\").setAll([('spark.driver.memory', '40g'),('spark.executor.memory','50g')])\n",
    "sc = SparkContext(conf=conf)\n",
    "sqlC = SQLContext(sc)"
   ]
  },
  {
   "cell_type": "code",
   "execution_count": 6,
   "metadata": {},
   "outputs": [],
   "source": [
    "# MongoDB Details\n",
    "mongo_ip = \"mongodb://127.0.0.1:27017/MachineLearningData.\"\n",
    "# mongo_replica_set_name = \"?replicaSet=rs0\""
   ]
  },
  {
   "cell_type": "code",
   "execution_count": 7,
   "metadata": {},
   "outputs": [
    {
     "name": "stdout",
     "output_type": "stream",
     "text": [
      "+--------+--------+---------+-----+------------+--------+--------+------------+----------+----------+------------+------------+------------+------------+--------+---------+----------+----------+----------+----------+-------------+---------+---------+-----------+-----------+-----+-----------+----------+----------+--------+----------+----------+----------+----------+------------+----------+----------+-----------+---------+--------+-------+---------+----------+---+------------+-----------+-----------+---------+-------+---------+-----------+--------+------------+----------+--------+----------+----------+-----------+-------+------+------------+-----------+-----------+-----------+----------+--------+------+--------+---------+-------------+---------+--------+-----------+------+------------+-----------+---------+----------+---------+------------+------+--------------------+\n",
      "|1stFlrSF|2ndFlrSF|3SsnPorch|Alley|BedroomAbvGr|BldgType|BsmtCond|BsmtExposure|BsmtFinSF1|BsmtFinSF2|BsmtFinType1|BsmtFinType2|BsmtFullBath|BsmtHalfBath|BsmtQual|BsmtUnfSF|CentralAir|Condition1|Condition2|Electrical|EnclosedPorch|ExterCond|ExterQual|Exterior1st|Exterior2nd|Fence|FireplaceQu|Fireplaces|Foundation|FullBath|Functional|GarageArea|GarageCars|GarageCond|GarageFinish|GarageQual|GarageType|GarageYrBlt|GrLivArea|HalfBath|Heating|HeatingQC|HouseStyle| Id|KitchenAbvGr|KitchenQual|LandContour|LandSlope|LotArea|LotConfig|LotFrontage|LotShape|LowQualFinSF|MSSubClass|MSZoning|MasVnrArea|MasVnrType|MiscFeature|MiscVal|MoSold|Neighborhood|OpenPorchSF|OverallCond|OverallQual|PavedDrive|PoolArea|PoolQC|RoofMatl|RoofStyle|SaleCondition|SalePrice|SaleType|ScreenPorch|Street|TotRmsAbvGrd|TotalBsmtSF|Utilities|WoodDeckSF|YearBuilt|YearRemodAdd|YrSold|                 _id|\n",
      "+--------+--------+---------+-----+------------+--------+--------+------------+----------+----------+------------+------------+------------+------------+--------+---------+----------+----------+----------+----------+-------------+---------+---------+-----------+-----------+-----+-----------+----------+----------+--------+----------+----------+----------+----------+------------+----------+----------+-----------+---------+--------+-------+---------+----------+---+------------+-----------+-----------+---------+-------+---------+-----------+--------+------------+----------+--------+----------+----------+-----------+-------+------+------------+-----------+-----------+-----------+----------+--------+------+--------+---------+-------------+---------+--------+-----------+------+------------+-----------+---------+----------+---------+------------+------+--------------------+\n",
      "|     856|     854|        0|  NaN|           3|    1Fam|      TA|          No|       706|         0|         GLQ|         Unf|           1|           0|      Gd|      150|         Y|      Norm|      Norm|     SBrkr|            0|       TA|       Gd|    VinylSd|    VinylSd|  NaN|        NaN|         0|     PConc|       2|       Typ|       548|         2|        TA|         RFn|        TA|    Attchd|     2003.0|     1710|       1|   GasA|       Ex|    2Story|  1|           1|         Gd|        Lvl|      Gtl|   8450|   Inside|       65.0|     Reg|           0|        60|      RL|     196.0|   BrkFace|        NaN|      0|     2|     CollgCr|         61|          5|          7|         Y|       0|   NaN| CompShg|    Gable|       Normal|   208500|      WD|          0|  Pave|           8|        856|   AllPub|         0|     2003|        2003|  2008|[5e8e018e366d16cc...|\n",
      "|    1262|       0|        0|  NaN|           3|    1Fam|      TA|          Gd|       978|         0|         ALQ|         Unf|           0|           1|      Gd|      284|         Y|     Feedr|      Norm|     SBrkr|            0|       TA|       TA|    MetalSd|    MetalSd|  NaN|         TA|         1|    CBlock|       2|       Typ|       460|         2|        TA|         RFn|        TA|    Attchd|     1976.0|     1262|       0|   GasA|       Ex|    1Story|  2|           1|         TA|        Lvl|      Gtl|   9600|      FR2|       80.0|     Reg|           0|        20|      RL|       0.0|      None|        NaN|      0|     5|     Veenker|          0|          8|          6|         Y|       0|   NaN| CompShg|    Gable|       Normal|   181500|      WD|          0|  Pave|           6|       1262|   AllPub|       298|     1976|        1976|  2007|[5e8e018e366d16cc...|\n",
      "|     920|     866|        0|  NaN|           3|    1Fam|      TA|          Mn|       486|         0|         GLQ|         Unf|           1|           0|      Gd|      434|         Y|      Norm|      Norm|     SBrkr|            0|       TA|       Gd|    VinylSd|    VinylSd|  NaN|         TA|         1|     PConc|       2|       Typ|       608|         2|        TA|         RFn|        TA|    Attchd|     2001.0|     1786|       1|   GasA|       Ex|    2Story|  3|           1|         Gd|        Lvl|      Gtl|  11250|   Inside|       68.0|     IR1|           0|        60|      RL|     162.0|   BrkFace|        NaN|      0|     9|     CollgCr|         42|          5|          7|         Y|       0|   NaN| CompShg|    Gable|       Normal|   223500|      WD|          0|  Pave|           6|        920|   AllPub|         0|     2001|        2002|  2008|[5e8e018e366d16cc...|\n",
      "|     961|     756|        0|  NaN|           3|    1Fam|      Gd|          No|       216|         0|         ALQ|         Unf|           1|           0|      TA|      540|         Y|      Norm|      Norm|     SBrkr|          272|       TA|       TA|    Wd Sdng|    Wd Shng|  NaN|         Gd|         1|    BrkTil|       1|       Typ|       642|         3|        TA|         Unf|        TA|    Detchd|     1998.0|     1717|       0|   GasA|       Gd|    2Story|  4|           1|         Gd|        Lvl|      Gtl|   9550|   Corner|       60.0|     IR1|           0|        70|      RL|       0.0|      None|        NaN|      0|     2|     Crawfor|         35|          5|          7|         Y|       0|   NaN| CompShg|    Gable|      Abnorml|   140000|      WD|          0|  Pave|           7|        756|   AllPub|         0|     1915|        1970|  2006|[5e8e018e366d16cc...|\n",
      "|    1145|    1053|        0|  NaN|           4|    1Fam|      TA|          Av|       655|         0|         GLQ|         Unf|           1|           0|      Gd|      490|         Y|      Norm|      Norm|     SBrkr|            0|       TA|       Gd|    VinylSd|    VinylSd|  NaN|         TA|         1|     PConc|       2|       Typ|       836|         3|        TA|         RFn|        TA|    Attchd|     2000.0|     2198|       1|   GasA|       Ex|    2Story|  5|           1|         Gd|        Lvl|      Gtl|  14260|      FR2|       84.0|     IR1|           0|        60|      RL|     350.0|   BrkFace|        NaN|      0|    12|     NoRidge|         84|          5|          8|         Y|       0|   NaN| CompShg|    Gable|       Normal|   250000|      WD|          0|  Pave|           9|       1145|   AllPub|       192|     2000|        2000|  2008|[5e8e018e366d16cc...|\n",
      "|     796|     566|      320|  NaN|           1|    1Fam|      TA|          No|       732|         0|         GLQ|         Unf|           1|           0|      Gd|       64|         Y|      Norm|      Norm|     SBrkr|            0|       TA|       TA|    VinylSd|    VinylSd|MnPrv|        NaN|         0|      Wood|       1|       Typ|       480|         2|        TA|         Unf|        TA|    Attchd|     1993.0|     1362|       1|   GasA|       Ex|    1.5Fin|  6|           1|         TA|        Lvl|      Gtl|  14115|   Inside|       85.0|     IR1|           0|        50|      RL|       0.0|      None|       Shed|    700|    10|     Mitchel|         30|          5|          5|         Y|       0|   NaN| CompShg|    Gable|       Normal|   143000|      WD|          0|  Pave|           5|        796|   AllPub|        40|     1993|        1995|  2009|[5e8e018e366d16cc...|\n",
      "|    1694|       0|        0|  NaN|           3|    1Fam|      TA|          Av|      1369|         0|         GLQ|         Unf|           1|           0|      Ex|      317|         Y|      Norm|      Norm|     SBrkr|            0|       TA|       Gd|    VinylSd|    VinylSd|  NaN|         Gd|         1|     PConc|       2|       Typ|       636|         2|        TA|         RFn|        TA|    Attchd|     2004.0|     1694|       0|   GasA|       Ex|    1Story|  7|           1|         Gd|        Lvl|      Gtl|  10084|   Inside|       75.0|     Reg|           0|        20|      RL|     186.0|     Stone|        NaN|      0|     8|     Somerst|         57|          5|          8|         Y|       0|   NaN| CompShg|    Gable|       Normal|   307000|      WD|          0|  Pave|           7|       1686|   AllPub|       255|     2004|        2005|  2007|[5e8e018e366d16cc...|\n",
      "|    1107|     983|        0|  NaN|           3|    1Fam|      TA|          Mn|       859|        32|         ALQ|         BLQ|           1|           0|      Gd|      216|         Y|      PosN|      Norm|     SBrkr|          228|       TA|       TA|    HdBoard|    HdBoard|  NaN|         TA|         2|    CBlock|       2|       Typ|       484|         2|        TA|         RFn|        TA|    Attchd|     1973.0|     2090|       1|   GasA|       Ex|    2Story|  8|           1|         TA|        Lvl|      Gtl|  10382|   Corner|        NaN|     IR1|           0|        60|      RL|     240.0|     Stone|       Shed|    350|    11|      NWAmes|        204|          6|          7|         Y|       0|   NaN| CompShg|    Gable|       Normal|   200000|      WD|          0|  Pave|           7|       1107|   AllPub|       235|     1973|        1973|  2009|[5e8e018e366d16cc...|\n",
      "|    1022|     752|        0|  NaN|           2|    1Fam|      TA|          No|         0|         0|         Unf|         Unf|           0|           0|      TA|      952|         Y|    Artery|      Norm|     FuseF|          205|       TA|       TA|    BrkFace|    Wd Shng|  NaN|         TA|         2|    BrkTil|       2|      Min1|       468|         2|        TA|         Unf|        Fa|    Detchd|     1931.0|     1774|       0|   GasA|       Gd|    1.5Fin|  9|           2|         TA|        Lvl|      Gtl|   6120|   Inside|       51.0|     Reg|           0|        50|      RM|       0.0|      None|        NaN|      0|     4|     OldTown|          0|          5|          7|         Y|       0|   NaN| CompShg|    Gable|      Abnorml|   129900|      WD|          0|  Pave|           8|        952|   AllPub|        90|     1931|        1950|  2008|[5e8e018e366d16cc...|\n",
      "|    1077|       0|        0|  NaN|           2|  2fmCon|      TA|          No|       851|         0|         GLQ|         Unf|           1|           0|      TA|      140|         Y|    Artery|    Artery|     SBrkr|            0|       TA|       TA|    MetalSd|    MetalSd|  NaN|         TA|         2|    BrkTil|       1|       Typ|       205|         1|        TA|         RFn|        Gd|    Attchd|     1939.0|     1077|       0|   GasA|       Ex|    1.5Unf| 10|           2|         TA|        Lvl|      Gtl|   7420|   Corner|       50.0|     Reg|           0|       190|      RL|       0.0|      None|        NaN|      0|     1|     BrkSide|          4|          6|          5|         Y|       0|   NaN| CompShg|    Gable|       Normal|   118000|      WD|          0|  Pave|           5|        991|   AllPub|         0|     1939|        1950|  2008|[5e8e018e366d16cc...|\n",
      "|    1040|       0|        0|  NaN|           3|    1Fam|      TA|          No|       906|         0|         Rec|         Unf|           1|           0|      TA|      134|         Y|      Norm|      Norm|     SBrkr|            0|       TA|       TA|    HdBoard|    HdBoard|  NaN|        NaN|         0|    CBlock|       1|       Typ|       384|         1|        TA|         Unf|        TA|    Detchd|     1965.0|     1040|       0|   GasA|       Ex|    1Story| 11|           1|         TA|        Lvl|      Gtl|  11200|   Inside|       70.0|     Reg|           0|        20|      RL|       0.0|      None|        NaN|      0|     2|      Sawyer|          0|          5|          5|         Y|       0|   NaN| CompShg|      Hip|       Normal|   129500|      WD|          0|  Pave|           5|       1040|   AllPub|         0|     1965|        1965|  2008|[5e8e018e366d16cc...|\n",
      "|    1182|    1142|        0|  NaN|           4|    1Fam|      TA|          No|       998|         0|         GLQ|         Unf|           1|           0|      Ex|      177|         Y|      Norm|      Norm|     SBrkr|            0|       TA|       Ex|    WdShing|    Wd Shng|  NaN|         Gd|         2|     PConc|       3|       Typ|       736|         3|        TA|         Fin|        TA|   BuiltIn|     2005.0|     2324|       0|   GasA|       Ex|    2Story| 12|           1|         Ex|        Lvl|      Gtl|  11924|   Inside|       85.0|     IR1|           0|        60|      RL|     286.0|     Stone|        NaN|      0|     7|     NridgHt|         21|          5|          9|         Y|       0|   NaN| CompShg|      Hip|      Partial|   345000|     New|          0|  Pave|          11|       1175|   AllPub|       147|     2005|        2006|  2006|[5e8e018e366d16cc...|\n",
      "|     912|       0|        0|  NaN|           2|    1Fam|      TA|          No|       737|         0|         ALQ|         Unf|           1|           0|      TA|      175|         Y|      Norm|      Norm|     SBrkr|            0|       TA|       TA|    HdBoard|    Plywood|  NaN|        NaN|         0|    CBlock|       1|       Typ|       352|         1|        TA|         Unf|        TA|    Detchd|     1962.0|      912|       0|   GasA|       TA|    1Story| 13|           1|         TA|        Lvl|      Gtl|  12968|   Inside|        NaN|     IR2|           0|        20|      RL|       0.0|      None|        NaN|      0|     9|      Sawyer|          0|          6|          5|         Y|       0|   NaN| CompShg|      Hip|       Normal|   144000|      WD|        176|  Pave|           4|        912|   AllPub|       140|     1962|        1962|  2008|[5e8e018e366d16cc...|\n",
      "|    1494|       0|        0|  NaN|           3|    1Fam|      TA|          Av|         0|         0|         Unf|         Unf|           0|           0|      Gd|     1494|         Y|      Norm|      Norm|     SBrkr|            0|       TA|       Gd|    VinylSd|    VinylSd|  NaN|         Gd|         1|     PConc|       2|       Typ|       840|         3|        TA|         RFn|        TA|    Attchd|     2006.0|     1494|       0|   GasA|       Ex|    1Story| 14|           1|         Gd|        Lvl|      Gtl|  10652|   Inside|       91.0|     IR1|           0|        20|      RL|     306.0|     Stone|        NaN|      0|     8|     CollgCr|         33|          5|          7|         Y|       0|   NaN| CompShg|    Gable|      Partial|   279500|     New|          0|  Pave|           7|       1494|   AllPub|       160|     2006|        2007|  2007|[5e8e018e366d16cc...|\n",
      "|    1253|       0|        0|  NaN|           2|    1Fam|      TA|          No|       733|         0|         BLQ|         Unf|           1|           0|      TA|      520|         Y|      Norm|      Norm|     SBrkr|          176|       TA|       TA|    MetalSd|    MetalSd| GdWo|         Fa|         1|    CBlock|       1|       Typ|       352|         1|        TA|         RFn|        TA|    Attchd|     1960.0|     1253|       1|   GasA|       TA|    1Story| 15|           1|         TA|        Lvl|      Gtl|  10920|   Corner|        NaN|     IR1|           0|        20|      RL|     212.0|   BrkFace|        NaN|      0|     5|       NAmes|        213|          5|          6|         Y|       0|   NaN| CompShg|      Hip|       Normal|   157000|      WD|          0|  Pave|           5|       1253|   AllPub|         0|     1960|        1960|  2008|[5e8e018e366d16cc...|\n",
      "|     854|       0|        0|  NaN|           2|    1Fam|      TA|          No|         0|         0|         Unf|         Unf|           0|           0|      TA|      832|         Y|      Norm|      Norm|     FuseA|            0|       TA|       TA|    Wd Sdng|    Wd Sdng|GdPrv|        NaN|         0|    BrkTil|       1|       Typ|       576|         2|        TA|         Unf|        TA|    Detchd|     1991.0|      854|       0|   GasA|       Ex|    1.5Unf| 16|           1|         TA|        Lvl|      Gtl|   6120|   Corner|       51.0|     Reg|           0|        45|      RM|       0.0|      None|        NaN|      0|     7|     BrkSide|        112|          8|          7|         Y|       0|   NaN| CompShg|    Gable|       Normal|   132000|      WD|          0|  Pave|           5|        832|   AllPub|        48|     1929|        2001|  2007|[5e8e018e366d16cc...|\n",
      "|    1004|       0|        0|  NaN|           2|    1Fam|      TA|          No|       578|         0|         ALQ|         Unf|           1|           0|      TA|      426|         Y|      Norm|      Norm|     SBrkr|            0|       TA|       TA|    Wd Sdng|    Wd Sdng|  NaN|         TA|         1|    CBlock|       1|       Typ|       480|         2|        TA|         Fin|        TA|    Attchd|     1970.0|     1004|       0|   GasA|       Ex|    1Story| 17|           1|         TA|        Lvl|      Gtl|  11241|  CulDSac|        NaN|     IR1|           0|        20|      RL|     180.0|   BrkFace|       Shed|    700|     3|       NAmes|          0|          7|          6|         Y|       0|   NaN| CompShg|    Gable|       Normal|   149000|      WD|          0|  Pave|           5|       1004|   AllPub|         0|     1970|        1970|  2010|[5e8e018e366d16cc...|\n",
      "|    1296|       0|        0|  NaN|           2|  Duplex|     NaN|         NaN|         0|         0|         NaN|         NaN|           0|           0|     NaN|        0|         Y|      Norm|      Norm|     SBrkr|            0|       TA|       TA|    MetalSd|    MetalSd|  NaN|        NaN|         0|      Slab|       2|       Typ|       516|         2|        TA|         Unf|        TA|   CarPort|     1967.0|     1296|       0|   GasA|       TA|    1Story| 18|           2|         TA|        Lvl|      Gtl|  10791|   Inside|       72.0|     Reg|           0|        90|      RL|       0.0|      None|       Shed|    500|    10|      Sawyer|          0|          5|          4|         Y|       0|   NaN| CompShg|    Gable|       Normal|    90000|      WD|          0|  Pave|           6|          0|   AllPub|         0|     1967|        1967|  2006|[5e8e018e366d16cc...|\n",
      "|    1114|       0|        0|  NaN|           3|    1Fam|      TA|          No|       646|         0|         GLQ|         Unf|           1|           0|      TA|      468|         Y|      RRAe|      Norm|     SBrkr|            0|       TA|       TA|    VinylSd|    VinylSd|  NaN|        NaN|         0|     PConc|       1|       Typ|       576|         2|        TA|         Unf|        TA|    Detchd|     2004.0|     1114|       1|   GasA|       Ex|    1Story| 19|           1|         Gd|        Lvl|      Gtl|  13695|   Inside|       66.0|     Reg|           0|        20|      RL|       0.0|      None|        NaN|      0|     6|     SawyerW|        102|          5|          5|         Y|       0|   NaN| CompShg|    Gable|       Normal|   159000|      WD|          0|  Pave|           6|       1114|   AllPub|         0|     2004|        2004|  2008|[5e8e018e366d16cc...|\n",
      "|    1339|       0|        0|  NaN|           3|    1Fam|      TA|          No|       504|         0|         LwQ|         Unf|           0|           0|      TA|      525|         Y|      Norm|      Norm|     SBrkr|            0|       TA|       TA|    BrkFace|    Plywood|MnPrv|        NaN|         0|    CBlock|       1|      Min1|       294|         1|        TA|         Unf|        TA|    Attchd|     1958.0|     1339|       0|   GasA|       TA|    1Story| 20|           1|         TA|        Lvl|      Gtl|   7560|   Inside|       70.0|     Reg|           0|        20|      RL|       0.0|      None|        NaN|      0|     5|       NAmes|          0|          6|          5|         Y|       0|   NaN| CompShg|      Hip|      Abnorml|   139000|     COD|          0|  Pave|           6|       1029|   AllPub|         0|     1958|        1965|  2009|[5e8e018e366d16cc...|\n",
      "+--------+--------+---------+-----+------------+--------+--------+------------+----------+----------+------------+------------+------------+------------+--------+---------+----------+----------+----------+----------+-------------+---------+---------+-----------+-----------+-----+-----------+----------+----------+--------+----------+----------+----------+----------+------------+----------+----------+-----------+---------+--------+-------+---------+----------+---+------------+-----------+-----------+---------+-------+---------+-----------+--------+------------+----------+--------+----------+----------+-----------+-------+------+------------+-----------+-----------+-----------+----------+--------+------+--------+---------+-------------+---------+--------+-----------+------+------------+-----------+---------+----------+---------+------------+------+--------------------+\n",
      "only showing top 20 rows\n",
      "\n"
     ]
    }
   ],
   "source": [
    "train_df = sqlC.read.format('com.mongodb.spark.sql.DefaultSource').option(\"uri\", mongo_ip + \"HouseSalePrice\").load()\n",
    "train_df.createOrReplaceTempView(\"train_df\")\n",
    "train_df= sqlC.sql(\"SELECT * FROM train_df\")\n",
    "train_df.show()"
   ]
  }
 ],
 "metadata": {
  "kernelspec": {
   "display_name": "Python 3",
   "language": "python",
   "name": "python3"
  },
  "language_info": {
   "codemirror_mode": {
    "name": "ipython",
    "version": 3
   },
   "file_extension": ".py",
   "mimetype": "text/x-python",
   "name": "python",
   "nbconvert_exporter": "python",
   "pygments_lexer": "ipython3",
   "version": "3.7.7"
  }
 },
 "nbformat": 4,
 "nbformat_minor": 4
}
